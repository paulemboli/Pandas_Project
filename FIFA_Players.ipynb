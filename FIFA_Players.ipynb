{
 "cells": [
  {
   "cell_type": "markdown",
   "id": "520d16ec",
   "metadata": {},
   "source": [
    "# Author - Paule Boli\n",
    "    \n",
    "This project involves the use of important libraries such as pandas, numpy, matplotlib in python while performing a detailed analysis through data visualization and manipulation on FIFA dataset through 'Players_20.csv'. "
   ]
  },
  {
   "cell_type": "code",
   "execution_count": 279,
   "id": "94887e86",
   "metadata": {},
   "outputs": [],
   "source": [
    "import pandas as pd \n",
    "import numpy as np\n",
    "import matplotlib.pyplot as plt\n",
    "import os\n",
    "plt.rcParams['figure.dpi']= 300\n"
   ]
  },
  {
   "cell_type": "markdown",
   "id": "c91565a4",
   "metadata": {},
   "source": [
    "Load the csv file and show top 5 records from it."
   ]
  },
  {
   "cell_type": "code",
   "execution_count": 280,
   "id": "4bad45a1",
   "metadata": {},
   "outputs": [
    {
     "data": {
      "text/html": [
       "<div>\n",
       "<style scoped>\n",
       "    .dataframe tbody tr th:only-of-type {\n",
       "        vertical-align: middle;\n",
       "    }\n",
       "\n",
       "    .dataframe tbody tr th {\n",
       "        vertical-align: top;\n",
       "    }\n",
       "\n",
       "    .dataframe thead th {\n",
       "        text-align: right;\n",
       "    }\n",
       "</style>\n",
       "<table border=\"1\" class=\"dataframe\">\n",
       "  <thead>\n",
       "    <tr style=\"text-align: right;\">\n",
       "      <th></th>\n",
       "      <th>sofifa_id</th>\n",
       "      <th>player_url</th>\n",
       "      <th>short_name</th>\n",
       "      <th>long_name</th>\n",
       "      <th>age</th>\n",
       "      <th>dob</th>\n",
       "      <th>height_cm</th>\n",
       "      <th>weight_kg</th>\n",
       "      <th>nationality</th>\n",
       "      <th>club</th>\n",
       "      <th>...</th>\n",
       "      <th>lwb</th>\n",
       "      <th>ldm</th>\n",
       "      <th>cdm</th>\n",
       "      <th>rdm</th>\n",
       "      <th>rwb</th>\n",
       "      <th>lb</th>\n",
       "      <th>lcb</th>\n",
       "      <th>cb</th>\n",
       "      <th>rcb</th>\n",
       "      <th>rb</th>\n",
       "    </tr>\n",
       "  </thead>\n",
       "  <tbody>\n",
       "    <tr>\n",
       "      <th>0</th>\n",
       "      <td>158023</td>\n",
       "      <td>https://sofifa.com/player/158023/lionel-messi/...</td>\n",
       "      <td>L. Messi</td>\n",
       "      <td>Lionel Andrés Messi Cuccittini</td>\n",
       "      <td>32</td>\n",
       "      <td>1987-06-24</td>\n",
       "      <td>170</td>\n",
       "      <td>72</td>\n",
       "      <td>Argentina</td>\n",
       "      <td>FC Barcelona</td>\n",
       "      <td>...</td>\n",
       "      <td>68+2</td>\n",
       "      <td>66+2</td>\n",
       "      <td>66+2</td>\n",
       "      <td>66+2</td>\n",
       "      <td>68+2</td>\n",
       "      <td>63+2</td>\n",
       "      <td>52+2</td>\n",
       "      <td>52+2</td>\n",
       "      <td>52+2</td>\n",
       "      <td>63+2</td>\n",
       "    </tr>\n",
       "    <tr>\n",
       "      <th>1</th>\n",
       "      <td>20801</td>\n",
       "      <td>https://sofifa.com/player/20801/c-ronaldo-dos-...</td>\n",
       "      <td>Cristiano Ronaldo</td>\n",
       "      <td>Cristiano Ronaldo dos Santos Aveiro</td>\n",
       "      <td>34</td>\n",
       "      <td>1985-02-05</td>\n",
       "      <td>187</td>\n",
       "      <td>83</td>\n",
       "      <td>Portugal</td>\n",
       "      <td>Juventus</td>\n",
       "      <td>...</td>\n",
       "      <td>65+3</td>\n",
       "      <td>61+3</td>\n",
       "      <td>61+3</td>\n",
       "      <td>61+3</td>\n",
       "      <td>65+3</td>\n",
       "      <td>61+3</td>\n",
       "      <td>53+3</td>\n",
       "      <td>53+3</td>\n",
       "      <td>53+3</td>\n",
       "      <td>61+3</td>\n",
       "    </tr>\n",
       "    <tr>\n",
       "      <th>2</th>\n",
       "      <td>190871</td>\n",
       "      <td>https://sofifa.com/player/190871/neymar-da-sil...</td>\n",
       "      <td>Neymar Jr</td>\n",
       "      <td>Neymar da Silva Santos Junior</td>\n",
       "      <td>27</td>\n",
       "      <td>1992-02-05</td>\n",
       "      <td>175</td>\n",
       "      <td>68</td>\n",
       "      <td>Brazil</td>\n",
       "      <td>Paris Saint-Germain</td>\n",
       "      <td>...</td>\n",
       "      <td>66+3</td>\n",
       "      <td>61+3</td>\n",
       "      <td>61+3</td>\n",
       "      <td>61+3</td>\n",
       "      <td>66+3</td>\n",
       "      <td>61+3</td>\n",
       "      <td>46+3</td>\n",
       "      <td>46+3</td>\n",
       "      <td>46+3</td>\n",
       "      <td>61+3</td>\n",
       "    </tr>\n",
       "    <tr>\n",
       "      <th>3</th>\n",
       "      <td>200389</td>\n",
       "      <td>https://sofifa.com/player/200389/jan-oblak/20/...</td>\n",
       "      <td>J. Oblak</td>\n",
       "      <td>Jan Oblak</td>\n",
       "      <td>26</td>\n",
       "      <td>1993-01-07</td>\n",
       "      <td>188</td>\n",
       "      <td>87</td>\n",
       "      <td>Slovenia</td>\n",
       "      <td>Atlético Madrid</td>\n",
       "      <td>...</td>\n",
       "      <td>NaN</td>\n",
       "      <td>NaN</td>\n",
       "      <td>NaN</td>\n",
       "      <td>NaN</td>\n",
       "      <td>NaN</td>\n",
       "      <td>NaN</td>\n",
       "      <td>NaN</td>\n",
       "      <td>NaN</td>\n",
       "      <td>NaN</td>\n",
       "      <td>NaN</td>\n",
       "    </tr>\n",
       "    <tr>\n",
       "      <th>4</th>\n",
       "      <td>183277</td>\n",
       "      <td>https://sofifa.com/player/183277/eden-hazard/2...</td>\n",
       "      <td>E. Hazard</td>\n",
       "      <td>Eden Hazard</td>\n",
       "      <td>28</td>\n",
       "      <td>1991-01-07</td>\n",
       "      <td>175</td>\n",
       "      <td>74</td>\n",
       "      <td>Belgium</td>\n",
       "      <td>Real Madrid</td>\n",
       "      <td>...</td>\n",
       "      <td>66+3</td>\n",
       "      <td>63+3</td>\n",
       "      <td>63+3</td>\n",
       "      <td>63+3</td>\n",
       "      <td>66+3</td>\n",
       "      <td>61+3</td>\n",
       "      <td>49+3</td>\n",
       "      <td>49+3</td>\n",
       "      <td>49+3</td>\n",
       "      <td>61+3</td>\n",
       "    </tr>\n",
       "  </tbody>\n",
       "</table>\n",
       "<p>5 rows × 104 columns</p>\n",
       "</div>"
      ],
      "text/plain": [
       "   sofifa_id                                         player_url  \\\n",
       "0     158023  https://sofifa.com/player/158023/lionel-messi/...   \n",
       "1      20801  https://sofifa.com/player/20801/c-ronaldo-dos-...   \n",
       "2     190871  https://sofifa.com/player/190871/neymar-da-sil...   \n",
       "3     200389  https://sofifa.com/player/200389/jan-oblak/20/...   \n",
       "4     183277  https://sofifa.com/player/183277/eden-hazard/2...   \n",
       "\n",
       "          short_name                            long_name  age         dob  \\\n",
       "0           L. Messi       Lionel Andrés Messi Cuccittini   32  1987-06-24   \n",
       "1  Cristiano Ronaldo  Cristiano Ronaldo dos Santos Aveiro   34  1985-02-05   \n",
       "2          Neymar Jr        Neymar da Silva Santos Junior   27  1992-02-05   \n",
       "3           J. Oblak                            Jan Oblak   26  1993-01-07   \n",
       "4          E. Hazard                          Eden Hazard   28  1991-01-07   \n",
       "\n",
       "   height_cm  weight_kg nationality                 club  ...   lwb   ldm  \\\n",
       "0        170         72   Argentina         FC Barcelona  ...  68+2  66+2   \n",
       "1        187         83    Portugal             Juventus  ...  65+3  61+3   \n",
       "2        175         68      Brazil  Paris Saint-Germain  ...  66+3  61+3   \n",
       "3        188         87    Slovenia      Atlético Madrid  ...   NaN   NaN   \n",
       "4        175         74     Belgium          Real Madrid  ...  66+3  63+3   \n",
       "\n",
       "    cdm   rdm   rwb    lb   lcb    cb   rcb    rb  \n",
       "0  66+2  66+2  68+2  63+2  52+2  52+2  52+2  63+2  \n",
       "1  61+3  61+3  65+3  61+3  53+3  53+3  53+3  61+3  \n",
       "2  61+3  61+3  66+3  61+3  46+3  46+3  46+3  61+3  \n",
       "3   NaN   NaN   NaN   NaN   NaN   NaN   NaN   NaN  \n",
       "4  63+3  63+3  66+3  61+3  49+3  49+3  49+3  61+3  \n",
       "\n",
       "[5 rows x 104 columns]"
      ]
     },
     "execution_count": 280,
     "metadata": {},
     "output_type": "execute_result"
    }
   ],
   "source": [
    "df= pd.read_csv('players_20.csv')\n",
    "df.head(5)\n"
   ]
  },
  {
   "cell_type": "markdown",
   "id": "28223612",
   "metadata": {},
   "source": [
    "How you would be able to see each column's name.\n",
    "Need to show number of rows and columns of this dataset.\n",
    "Show number of players and their countries"
   ]
  },
  {
   "cell_type": "code",
   "execution_count": 281,
   "id": "d87564a8",
   "metadata": {},
   "outputs": [
    {
     "name": "stdout",
     "output_type": "stream",
     "text": [
      "<class 'pandas.core.frame.DataFrame'>\n",
      "RangeIndex: 18278 entries, 0 to 18277\n",
      "Columns: 104 entries, sofifa_id to rb\n",
      "dtypes: float64(16), int64(45), object(43)\n",
      "memory usage: 14.5+ MB\n"
     ]
    }
   ],
   "source": [
    "df.info()"
   ]
  },
  {
   "cell_type": "markdown",
   "id": "4e379368",
   "metadata": {},
   "source": [
    "If you find many records in point 4 then show only top 10 countries and their \n",
    "number of players.\n"
   ]
  },
  {
   "cell_type": "code",
   "execution_count": 282,
   "id": "459d1edc",
   "metadata": {},
   "outputs": [],
   "source": [
    "top10_countries = df.groupby(\"nationality\").count().reset_index()[[\"short_name\",\"nationality\"]]"
   ]
  },
  {
   "cell_type": "code",
   "execution_count": 283,
   "id": "fb839a9f",
   "metadata": {},
   "outputs": [
    {
     "data": {
      "text/html": [
       "<div>\n",
       "<style scoped>\n",
       "    .dataframe tbody tr th:only-of-type {\n",
       "        vertical-align: middle;\n",
       "    }\n",
       "\n",
       "    .dataframe tbody tr th {\n",
       "        vertical-align: top;\n",
       "    }\n",
       "\n",
       "    .dataframe thead th {\n",
       "        text-align: right;\n",
       "    }\n",
       "</style>\n",
       "<table border=\"1\" class=\"dataframe\">\n",
       "  <thead>\n",
       "    <tr style=\"text-align: right;\">\n",
       "      <th></th>\n",
       "      <th>short_name</th>\n",
       "      <th>nationality</th>\n",
       "    </tr>\n",
       "  </thead>\n",
       "  <tbody>\n",
       "    <tr>\n",
       "      <th>0</th>\n",
       "      <td>2</td>\n",
       "      <td>Afghanistan</td>\n",
       "    </tr>\n",
       "    <tr>\n",
       "      <th>1</th>\n",
       "      <td>43</td>\n",
       "      <td>Albania</td>\n",
       "    </tr>\n",
       "    <tr>\n",
       "      <th>2</th>\n",
       "      <td>50</td>\n",
       "      <td>Algeria</td>\n",
       "    </tr>\n",
       "    <tr>\n",
       "      <th>3</th>\n",
       "      <td>16</td>\n",
       "      <td>Angola</td>\n",
       "    </tr>\n",
       "    <tr>\n",
       "      <th>4</th>\n",
       "      <td>7</td>\n",
       "      <td>Antigua &amp; Barbuda</td>\n",
       "    </tr>\n",
       "    <tr>\n",
       "      <th>5</th>\n",
       "      <td>886</td>\n",
       "      <td>Argentina</td>\n",
       "    </tr>\n",
       "    <tr>\n",
       "      <th>6</th>\n",
       "      <td>8</td>\n",
       "      <td>Armenia</td>\n",
       "    </tr>\n",
       "    <tr>\n",
       "      <th>7</th>\n",
       "      <td>196</td>\n",
       "      <td>Australia</td>\n",
       "    </tr>\n",
       "    <tr>\n",
       "      <th>8</th>\n",
       "      <td>319</td>\n",
       "      <td>Austria</td>\n",
       "    </tr>\n",
       "    <tr>\n",
       "      <th>9</th>\n",
       "      <td>6</td>\n",
       "      <td>Azerbaijan</td>\n",
       "    </tr>\n",
       "  </tbody>\n",
       "</table>\n",
       "</div>"
      ],
      "text/plain": [
       "   short_name        nationality\n",
       "0           2        Afghanistan\n",
       "1          43            Albania\n",
       "2          50            Algeria\n",
       "3          16             Angola\n",
       "4           7  Antigua & Barbuda\n",
       "5         886          Argentina\n",
       "6           8            Armenia\n",
       "7         196          Australia\n",
       "8         319            Austria\n",
       "9           6         Azerbaijan"
      ]
     },
     "execution_count": 283,
     "metadata": {},
     "output_type": "execute_result"
    }
   ],
   "source": [
    "top10_countries.head(10)"
   ]
  },
  {
   "cell_type": "markdown",
   "id": "fa19c454",
   "metadata": {},
   "source": [
    "Now you have to create a bar plot of top 5 countries and their number of \n",
    "players, try to fill green color in bars."
   ]
  },
  {
   "cell_type": "code",
   "execution_count": 383,
   "id": "849fe420",
   "metadata": {},
   "outputs": [
    {
     "data": {
      "image/png": "[encoded data removed]",
      "text/plain": [
       "<Figure size 800x500 with 1 Axes>"
      ]
     },
     "metadata": {},
     "output_type": "display_data"
    }
   ],
   "source": [
    "players = df['short_name'].head(10)\n",
    "country = df['nationality'].head(10)\n",
    "plt.figure(figsize=(8,5))\n",
    "plt.bar(players, country, color ='green',\n",
    "        width = 0.4)\n",
    "plt.title('Top 10 Players and Countries', fontsize=20)\n",
    "plt.xlabel('Players', fontsize=14)\n",
    "plt.ylabel('Country', fontsize=14)\n",
    "plt.xticks(rotation=30)\n",
    "plt.show()"
   ]
  },
  {
   "cell_type": "markdown",
   "id": "40cb1af1",
   "metadata": {},
   "source": [
    "Now you have to create a bar plot of top 5 countries and their number of \n",
    "players, try to fill green color in bars."
   ]
  },
  {
   "cell_type": "code",
   "execution_count": 385,
   "id": "c9d2f00e",
   "metadata": {},
   "outputs": [
    {
     "data": {
      "image/png": "[encoded data removed]",
      "text/plain": [
       "<Figure size 800x500 with 1 Axes>"
      ]
     },
     "metadata": {},
     "output_type": "display_data"
    }
   ],
   "source": [
    "players = df['short_name'].head(5)\n",
    "country = df['nationality'].head(5)\n",
    "plt.figure(figsize = (8,5))\n",
    "plt.bar(players, country, color ='green',\n",
    "        width = 0.4)\n",
    "plt.title('Top 5 Players and Countries', fontsize=20)\n",
    "plt.xlabel('Players', fontsize=15)\n",
    "plt.ylabel('Country', fontsize=15)\n",
    "\n",
    "plt.show()"
   ]
  },
  {
   "cell_type": "markdown",
   "id": "239d30bf",
   "metadata": {},
   "source": [
    "Top 5 players and wages that are getting highest salaries"
   ]
  },
  {
   "cell_type": "code",
   "execution_count": 286,
   "id": "ceab986d",
   "metadata": {},
   "outputs": [
    {
     "data": {
      "text/plain": [
       "short_name\n",
       "L. Messi             565000\n",
       "E. Hazard            470000\n",
       "Cristiano Ronaldo    405000\n",
       "K. De Bruyne         370000\n",
       "A. Griezmann         370000\n",
       "Name: wage_eur, dtype: int64"
      ]
     },
     "execution_count": 286,
     "metadata": {},
     "output_type": "execute_result"
    }
   ],
   "source": [
    "highest_Sal = df.groupby([\"short_name\",\"wage_eur\"]).size().reset_index()[[\"short_name\",\"wage_eur\"]]\n",
    "highest_Sal = highest_Sal.sort_values(by = [\"wage_eur\"], ascending=False).set_index(\"short_name\").head(10)\n",
    "highest_Sal = highest_Sal.squeeze()\n",
    "highest_Sal.head(5)"
   ]
  },
  {
   "cell_type": "markdown",
   "id": "d467c5c2",
   "metadata": {},
   "source": [
    "A bar plot players and highest salaries"
   ]
  },
  {
   "cell_type": "code",
   "execution_count": 386,
   "id": "bdd5d551",
   "metadata": {},
   "outputs": [
    {
     "data": {
      "image/png": "[encoded data removed]",
      "text/plain": [
       "<Figure size 640x480 with 1 Axes>"
      ]
     },
     "metadata": {},
     "output_type": "display_data"
    }
   ],
   "source": [
    "players = df['short_name'].head(5)\n",
    "salary = df['wage_eur'].head(5)\n",
    "plt.bar(players, salary, color ='maroon',\n",
    "        width = 0.2)\n",
    "plt.title('Top 5 Players and Salaries', fontsize=18)\n",
    "plt.xlabel('Players', fontsize=15)\n",
    "plt.ylabel('Salary', fontsize=15)\n",
    "plt.show()"
   ]
  },
  {
   "cell_type": "markdown",
   "id": "624816af",
   "metadata": {},
   "source": [
    "Histogram"
   ]
  },
  {
   "cell_type": "markdown",
   "id": "c192934c",
   "metadata": {},
   "source": [
    "Show top 10 records of Germany"
   ]
  },
  {
   "cell_type": "code",
   "execution_count": 288,
   "id": "64cd746f",
   "metadata": {},
   "outputs": [],
   "source": [
    "duplicated = df.loc[(df['nationality']=='Germany')]"
   ]
  },
  {
   "cell_type": "code",
   "execution_count": 289,
   "id": "b85b08fb",
   "metadata": {},
   "outputs": [
    {
     "data": {
      "text/html": [
       "<div>\n",
       "<style scoped>\n",
       "    .dataframe tbody tr th:only-of-type {\n",
       "        vertical-align: middle;\n",
       "    }\n",
       "\n",
       "    .dataframe tbody tr th {\n",
       "        vertical-align: top;\n",
       "    }\n",
       "\n",
       "    .dataframe thead th {\n",
       "        text-align: right;\n",
       "    }\n",
       "</style>\n",
       "<table border=\"1\" class=\"dataframe\">\n",
       "  <thead>\n",
       "    <tr style=\"text-align: right;\">\n",
       "      <th></th>\n",
       "      <th>sofifa_id</th>\n",
       "      <th>player_url</th>\n",
       "      <th>short_name</th>\n",
       "      <th>long_name</th>\n",
       "      <th>age</th>\n",
       "      <th>dob</th>\n",
       "      <th>height_cm</th>\n",
       "      <th>weight_kg</th>\n",
       "      <th>nationality</th>\n",
       "      <th>club</th>\n",
       "      <th>...</th>\n",
       "      <th>lwb</th>\n",
       "      <th>ldm</th>\n",
       "      <th>cdm</th>\n",
       "      <th>rdm</th>\n",
       "      <th>rwb</th>\n",
       "      <th>lb</th>\n",
       "      <th>lcb</th>\n",
       "      <th>cb</th>\n",
       "      <th>rcb</th>\n",
       "      <th>rb</th>\n",
       "    </tr>\n",
       "  </thead>\n",
       "  <tbody>\n",
       "    <tr>\n",
       "      <th>6</th>\n",
       "      <td>192448</td>\n",
       "      <td>https://sofifa.com/player/192448/marc-andre-te...</td>\n",
       "      <td>M. ter Stegen</td>\n",
       "      <td>Marc-André ter Stegen</td>\n",
       "      <td>27</td>\n",
       "      <td>1992-04-30</td>\n",
       "      <td>187</td>\n",
       "      <td>85</td>\n",
       "      <td>Germany</td>\n",
       "      <td>FC Barcelona</td>\n",
       "      <td>...</td>\n",
       "      <td>NaN</td>\n",
       "      <td>NaN</td>\n",
       "      <td>NaN</td>\n",
       "      <td>NaN</td>\n",
       "      <td>NaN</td>\n",
       "      <td>NaN</td>\n",
       "      <td>NaN</td>\n",
       "      <td>NaN</td>\n",
       "      <td>NaN</td>\n",
       "      <td>NaN</td>\n",
       "    </tr>\n",
       "    <tr>\n",
       "      <th>31</th>\n",
       "      <td>167495</td>\n",
       "      <td>https://sofifa.com/player/167495/manuel-neuer/...</td>\n",
       "      <td>M. Neuer</td>\n",
       "      <td>Manuel Neuer</td>\n",
       "      <td>33</td>\n",
       "      <td>1986-03-27</td>\n",
       "      <td>193</td>\n",
       "      <td>92</td>\n",
       "      <td>Germany</td>\n",
       "      <td>FC Bayern München</td>\n",
       "      <td>...</td>\n",
       "      <td>NaN</td>\n",
       "      <td>NaN</td>\n",
       "      <td>NaN</td>\n",
       "      <td>NaN</td>\n",
       "      <td>NaN</td>\n",
       "      <td>NaN</td>\n",
       "      <td>NaN</td>\n",
       "      <td>NaN</td>\n",
       "      <td>NaN</td>\n",
       "      <td>NaN</td>\n",
       "    </tr>\n",
       "    <tr>\n",
       "      <th>36</th>\n",
       "      <td>182521</td>\n",
       "      <td>https://sofifa.com/player/182521/toni-kroos/20...</td>\n",
       "      <td>T. Kroos</td>\n",
       "      <td>Toni Kroos</td>\n",
       "      <td>29</td>\n",
       "      <td>1990-01-04</td>\n",
       "      <td>183</td>\n",
       "      <td>76</td>\n",
       "      <td>Germany</td>\n",
       "      <td>Real Madrid</td>\n",
       "      <td>...</td>\n",
       "      <td>75+3</td>\n",
       "      <td>79+3</td>\n",
       "      <td>79+3</td>\n",
       "      <td>79+3</td>\n",
       "      <td>75+3</td>\n",
       "      <td>72+3</td>\n",
       "      <td>69+3</td>\n",
       "      <td>69+3</td>\n",
       "      <td>69+3</td>\n",
       "      <td>72+3</td>\n",
       "    </tr>\n",
       "    <tr>\n",
       "      <th>37</th>\n",
       "      <td>188350</td>\n",
       "      <td>https://sofifa.com/player/188350/marco-reus/20...</td>\n",
       "      <td>M. Reus</td>\n",
       "      <td>Marco Reus</td>\n",
       "      <td>30</td>\n",
       "      <td>1989-05-31</td>\n",
       "      <td>180</td>\n",
       "      <td>71</td>\n",
       "      <td>Germany</td>\n",
       "      <td>Borussia Dortmund</td>\n",
       "      <td>...</td>\n",
       "      <td>69+3</td>\n",
       "      <td>65+3</td>\n",
       "      <td>65+3</td>\n",
       "      <td>65+3</td>\n",
       "      <td>69+3</td>\n",
       "      <td>64+3</td>\n",
       "      <td>55+3</td>\n",
       "      <td>55+3</td>\n",
       "      <td>55+3</td>\n",
       "      <td>64+3</td>\n",
       "    </tr>\n",
       "    <tr>\n",
       "      <th>49</th>\n",
       "      <td>178603</td>\n",
       "      <td>https://sofifa.com/player/178603/mats-hummels/...</td>\n",
       "      <td>M. Hummels</td>\n",
       "      <td>Mats  Hummels</td>\n",
       "      <td>30</td>\n",
       "      <td>1988-12-16</td>\n",
       "      <td>191</td>\n",
       "      <td>94</td>\n",
       "      <td>Germany</td>\n",
       "      <td>Borussia Dortmund</td>\n",
       "      <td>...</td>\n",
       "      <td>77+3</td>\n",
       "      <td>83+3</td>\n",
       "      <td>83+3</td>\n",
       "      <td>83+3</td>\n",
       "      <td>77+3</td>\n",
       "      <td>78+3</td>\n",
       "      <td>84+3</td>\n",
       "      <td>84+3</td>\n",
       "      <td>84+3</td>\n",
       "      <td>78+3</td>\n",
       "    </tr>\n",
       "    <tr>\n",
       "      <th>55</th>\n",
       "      <td>222492</td>\n",
       "      <td>https://sofifa.com/player/222492/leroy-sane/20...</td>\n",
       "      <td>L. Sané</td>\n",
       "      <td>Leroy Sané</td>\n",
       "      <td>23</td>\n",
       "      <td>1996-01-11</td>\n",
       "      <td>183</td>\n",
       "      <td>75</td>\n",
       "      <td>Germany</td>\n",
       "      <td>Manchester City</td>\n",
       "      <td>...</td>\n",
       "      <td>65+2</td>\n",
       "      <td>59+2</td>\n",
       "      <td>59+2</td>\n",
       "      <td>59+2</td>\n",
       "      <td>65+2</td>\n",
       "      <td>61+2</td>\n",
       "      <td>52+2</td>\n",
       "      <td>52+2</td>\n",
       "      <td>52+2</td>\n",
       "      <td>61+2</td>\n",
       "    </tr>\n",
       "    <tr>\n",
       "      <th>61</th>\n",
       "      <td>212622</td>\n",
       "      <td>https://sofifa.com/player/212622/joshua-kimmic...</td>\n",
       "      <td>J. Kimmich</td>\n",
       "      <td>Joshua Kimmich</td>\n",
       "      <td>24</td>\n",
       "      <td>1995-02-08</td>\n",
       "      <td>176</td>\n",
       "      <td>73</td>\n",
       "      <td>Germany</td>\n",
       "      <td>FC Bayern München</td>\n",
       "      <td>...</td>\n",
       "      <td>83+3</td>\n",
       "      <td>82+3</td>\n",
       "      <td>82+3</td>\n",
       "      <td>82+3</td>\n",
       "      <td>83+3</td>\n",
       "      <td>81+3</td>\n",
       "      <td>78+3</td>\n",
       "      <td>78+3</td>\n",
       "      <td>78+3</td>\n",
       "      <td>81+3</td>\n",
       "    </tr>\n",
       "    <tr>\n",
       "      <th>70</th>\n",
       "      <td>189596</td>\n",
       "      <td>https://sofifa.com/player/189596/thomas-muller...</td>\n",
       "      <td>T. Müller</td>\n",
       "      <td>Thomas Müller</td>\n",
       "      <td>29</td>\n",
       "      <td>1989-09-13</td>\n",
       "      <td>186</td>\n",
       "      <td>75</td>\n",
       "      <td>Germany</td>\n",
       "      <td>FC Bayern München</td>\n",
       "      <td>...</td>\n",
       "      <td>69+3</td>\n",
       "      <td>68+3</td>\n",
       "      <td>68+3</td>\n",
       "      <td>68+3</td>\n",
       "      <td>69+3</td>\n",
       "      <td>67+3</td>\n",
       "      <td>62+3</td>\n",
       "      <td>62+3</td>\n",
       "      <td>62+3</td>\n",
       "      <td>67+3</td>\n",
       "    </tr>\n",
       "    <tr>\n",
       "      <th>77</th>\n",
       "      <td>212190</td>\n",
       "      <td>https://sofifa.com/player/212190/niklas-sule/2...</td>\n",
       "      <td>N. Süle</td>\n",
       "      <td>Niklas Süle</td>\n",
       "      <td>23</td>\n",
       "      <td>1995-09-03</td>\n",
       "      <td>195</td>\n",
       "      <td>97</td>\n",
       "      <td>Germany</td>\n",
       "      <td>FC Bayern München</td>\n",
       "      <td>...</td>\n",
       "      <td>71+2</td>\n",
       "      <td>77+2</td>\n",
       "      <td>77+2</td>\n",
       "      <td>77+2</td>\n",
       "      <td>71+2</td>\n",
       "      <td>75+2</td>\n",
       "      <td>83+2</td>\n",
       "      <td>83+2</td>\n",
       "      <td>83+2</td>\n",
       "      <td>75+2</td>\n",
       "    </tr>\n",
       "    <tr>\n",
       "      <th>109</th>\n",
       "      <td>235790</td>\n",
       "      <td>https://sofifa.com/player/235790/kai-havertz/2...</td>\n",
       "      <td>K. Havertz</td>\n",
       "      <td>Kai Havertz</td>\n",
       "      <td>20</td>\n",
       "      <td>1999-06-11</td>\n",
       "      <td>188</td>\n",
       "      <td>83</td>\n",
       "      <td>Germany</td>\n",
       "      <td>Bayer 04 Leverkusen</td>\n",
       "      <td>...</td>\n",
       "      <td>65+2</td>\n",
       "      <td>63+2</td>\n",
       "      <td>63+2</td>\n",
       "      <td>63+2</td>\n",
       "      <td>65+2</td>\n",
       "      <td>62+2</td>\n",
       "      <td>54+2</td>\n",
       "      <td>54+2</td>\n",
       "      <td>54+2</td>\n",
       "      <td>62+2</td>\n",
       "    </tr>\n",
       "  </tbody>\n",
       "</table>\n",
       "<p>10 rows × 104 columns</p>\n",
       "</div>"
      ],
      "text/plain": [
       "     sofifa_id                                         player_url  \\\n",
       "6       192448  https://sofifa.com/player/192448/marc-andre-te...   \n",
       "31      167495  https://sofifa.com/player/167495/manuel-neuer/...   \n",
       "36      182521  https://sofifa.com/player/182521/toni-kroos/20...   \n",
       "37      188350  https://sofifa.com/player/188350/marco-reus/20...   \n",
       "49      178603  https://sofifa.com/player/178603/mats-hummels/...   \n",
       "55      222492  https://sofifa.com/player/222492/leroy-sane/20...   \n",
       "61      212622  https://sofifa.com/player/212622/joshua-kimmic...   \n",
       "70      189596  https://sofifa.com/player/189596/thomas-muller...   \n",
       "77      212190  https://sofifa.com/player/212190/niklas-sule/2...   \n",
       "109     235790  https://sofifa.com/player/235790/kai-havertz/2...   \n",
       "\n",
       "        short_name              long_name  age         dob  height_cm  \\\n",
       "6    M. ter Stegen  Marc-André ter Stegen   27  1992-04-30        187   \n",
       "31        M. Neuer           Manuel Neuer   33  1986-03-27        193   \n",
       "36        T. Kroos             Toni Kroos   29  1990-01-04        183   \n",
       "37         M. Reus             Marco Reus   30  1989-05-31        180   \n",
       "49      M. Hummels          Mats  Hummels   30  1988-12-16        191   \n",
       "55         L. Sané             Leroy Sané   23  1996-01-11        183   \n",
       "61      J. Kimmich         Joshua Kimmich   24  1995-02-08        176   \n",
       "70       T. Müller          Thomas Müller   29  1989-09-13        186   \n",
       "77         N. Süle            Niklas Süle   23  1995-09-03        195   \n",
       "109     K. Havertz            Kai Havertz   20  1999-06-11        188   \n",
       "\n",
       "     weight_kg nationality                 club  ...   lwb   ldm   cdm   rdm  \\\n",
       "6           85     Germany         FC Barcelona  ...   NaN   NaN   NaN   NaN   \n",
       "31          92     Germany    FC Bayern München  ...   NaN   NaN   NaN   NaN   \n",
       "36          76     Germany          Real Madrid  ...  75+3  79+3  79+3  79+3   \n",
       "37          71     Germany    Borussia Dortmund  ...  69+3  65+3  65+3  65+3   \n",
       "49          94     Germany    Borussia Dortmund  ...  77+3  83+3  83+3  83+3   \n",
       "55          75     Germany      Manchester City  ...  65+2  59+2  59+2  59+2   \n",
       "61          73     Germany    FC Bayern München  ...  83+3  82+3  82+3  82+3   \n",
       "70          75     Germany    FC Bayern München  ...  69+3  68+3  68+3  68+3   \n",
       "77          97     Germany    FC Bayern München  ...  71+2  77+2  77+2  77+2   \n",
       "109         83     Germany  Bayer 04 Leverkusen  ...  65+2  63+2  63+2  63+2   \n",
       "\n",
       "      rwb    lb   lcb    cb   rcb    rb  \n",
       "6     NaN   NaN   NaN   NaN   NaN   NaN  \n",
       "31    NaN   NaN   NaN   NaN   NaN   NaN  \n",
       "36   75+3  72+3  69+3  69+3  69+3  72+3  \n",
       "37   69+3  64+3  55+3  55+3  55+3  64+3  \n",
       "49   77+3  78+3  84+3  84+3  84+3  78+3  \n",
       "55   65+2  61+2  52+2  52+2  52+2  61+2  \n",
       "61   83+3  81+3  78+3  78+3  78+3  81+3  \n",
       "70   69+3  67+3  62+3  62+3  62+3  67+3  \n",
       "77   71+2  75+2  83+2  83+2  83+2  75+2  \n",
       "109  65+2  62+2  54+2  54+2  54+2  62+2  \n",
       "\n",
       "[10 rows x 104 columns]"
      ]
     },
     "execution_count": 289,
     "metadata": {},
     "output_type": "execute_result"
    }
   ],
   "source": [
    "duplicated.head(10)"
   ]
  },
  {
   "cell_type": "markdown",
   "id": "fe4759a8",
   "metadata": {},
   "source": [
    "Now show top 5 records of Germany players who have maximum height, \n",
    "weight and wages.\n"
   ]
  },
  {
   "cell_type": "code",
   "execution_count": 290,
   "id": "523420dd",
   "metadata": {},
   "outputs": [],
   "source": [
    "duplicated = df[['height_cm','weight_kg','wage_eur']]\n"
   ]
  },
  {
   "cell_type": "code",
   "execution_count": 291,
   "id": "7b404038",
   "metadata": {},
   "outputs": [
    {
     "data": {
      "text/html": [
       "<div>\n",
       "<style scoped>\n",
       "    .dataframe tbody tr th:only-of-type {\n",
       "        vertical-align: middle;\n",
       "    }\n",
       "\n",
       "    .dataframe tbody tr th {\n",
       "        vertical-align: top;\n",
       "    }\n",
       "\n",
       "    .dataframe thead th {\n",
       "        text-align: right;\n",
       "    }\n",
       "</style>\n",
       "<table border=\"1\" class=\"dataframe\">\n",
       "  <thead>\n",
       "    <tr style=\"text-align: right;\">\n",
       "      <th></th>\n",
       "      <th>height_cm</th>\n",
       "      <th>weight_kg</th>\n",
       "      <th>wage_eur</th>\n",
       "    </tr>\n",
       "  </thead>\n",
       "  <tbody>\n",
       "    <tr>\n",
       "      <th>0</th>\n",
       "      <td>170</td>\n",
       "      <td>72</td>\n",
       "      <td>565000</td>\n",
       "    </tr>\n",
       "    <tr>\n",
       "      <th>1</th>\n",
       "      <td>187</td>\n",
       "      <td>83</td>\n",
       "      <td>405000</td>\n",
       "    </tr>\n",
       "    <tr>\n",
       "      <th>2</th>\n",
       "      <td>175</td>\n",
       "      <td>68</td>\n",
       "      <td>290000</td>\n",
       "    </tr>\n",
       "    <tr>\n",
       "      <th>3</th>\n",
       "      <td>188</td>\n",
       "      <td>87</td>\n",
       "      <td>125000</td>\n",
       "    </tr>\n",
       "    <tr>\n",
       "      <th>4</th>\n",
       "      <td>175</td>\n",
       "      <td>74</td>\n",
       "      <td>470000</td>\n",
       "    </tr>\n",
       "  </tbody>\n",
       "</table>\n",
       "</div>"
      ],
      "text/plain": [
       "   height_cm  weight_kg  wage_eur\n",
       "0        170         72    565000\n",
       "1        187         83    405000\n",
       "2        175         68    290000\n",
       "3        188         87    125000\n",
       "4        175         74    470000"
      ]
     },
     "execution_count": 291,
     "metadata": {},
     "output_type": "execute_result"
    }
   ],
   "source": [
    "duplicated.head(5)"
   ]
  },
  {
   "cell_type": "markdown",
   "id": "6a1519bd",
   "metadata": {},
   "source": [
    "Show short name and wages of top 5 Germany players"
   ]
  },
  {
   "cell_type": "code",
   "execution_count": 292,
   "id": "630f8018",
   "metadata": {},
   "outputs": [],
   "source": [
    "duplicated = df[['short_name','wage_eur']]"
   ]
  },
  {
   "cell_type": "code",
   "execution_count": 293,
   "id": "23ddae71",
   "metadata": {},
   "outputs": [
    {
     "data": {
      "text/html": [
       "<div>\n",
       "<style scoped>\n",
       "    .dataframe tbody tr th:only-of-type {\n",
       "        vertical-align: middle;\n",
       "    }\n",
       "\n",
       "    .dataframe tbody tr th {\n",
       "        vertical-align: top;\n",
       "    }\n",
       "\n",
       "    .dataframe thead th {\n",
       "        text-align: right;\n",
       "    }\n",
       "</style>\n",
       "<table border=\"1\" class=\"dataframe\">\n",
       "  <thead>\n",
       "    <tr style=\"text-align: right;\">\n",
       "      <th></th>\n",
       "      <th>short_name</th>\n",
       "      <th>wage_eur</th>\n",
       "    </tr>\n",
       "  </thead>\n",
       "  <tbody>\n",
       "    <tr>\n",
       "      <th>0</th>\n",
       "      <td>L. Messi</td>\n",
       "      <td>565000</td>\n",
       "    </tr>\n",
       "    <tr>\n",
       "      <th>1</th>\n",
       "      <td>Cristiano Ronaldo</td>\n",
       "      <td>405000</td>\n",
       "    </tr>\n",
       "    <tr>\n",
       "      <th>2</th>\n",
       "      <td>Neymar Jr</td>\n",
       "      <td>290000</td>\n",
       "    </tr>\n",
       "    <tr>\n",
       "      <th>3</th>\n",
       "      <td>J. Oblak</td>\n",
       "      <td>125000</td>\n",
       "    </tr>\n",
       "    <tr>\n",
       "      <th>4</th>\n",
       "      <td>E. Hazard</td>\n",
       "      <td>470000</td>\n",
       "    </tr>\n",
       "  </tbody>\n",
       "</table>\n",
       "</div>"
      ],
      "text/plain": [
       "          short_name  wage_eur\n",
       "0           L. Messi    565000\n",
       "1  Cristiano Ronaldo    405000\n",
       "2          Neymar Jr    290000\n",
       "3           J. Oblak    125000\n",
       "4          E. Hazard    470000"
      ]
     },
     "execution_count": 293,
     "metadata": {},
     "output_type": "execute_result"
    }
   ],
   "source": [
    "duplicated.head(5)"
   ]
  },
  {
   "cell_type": "markdown",
   "id": "7400d98f",
   "metadata": {},
   "source": [
    "Show top 5 players who have great shooting skills among all with short name"
   ]
  },
  {
   "cell_type": "code",
   "execution_count": 294,
   "id": "f6683bab",
   "metadata": {},
   "outputs": [],
   "source": [
    "duplicated = df[['short_name','shooting']]"
   ]
  },
  {
   "cell_type": "code",
   "execution_count": 295,
   "id": "5b9c28f2",
   "metadata": {},
   "outputs": [
    {
     "data": {
      "text/html": [
       "<div>\n",
       "<style scoped>\n",
       "    .dataframe tbody tr th:only-of-type {\n",
       "        vertical-align: middle;\n",
       "    }\n",
       "\n",
       "    .dataframe tbody tr th {\n",
       "        vertical-align: top;\n",
       "    }\n",
       "\n",
       "    .dataframe thead th {\n",
       "        text-align: right;\n",
       "    }\n",
       "</style>\n",
       "<table border=\"1\" class=\"dataframe\">\n",
       "  <thead>\n",
       "    <tr style=\"text-align: right;\">\n",
       "      <th></th>\n",
       "      <th>short_name</th>\n",
       "      <th>shooting</th>\n",
       "    </tr>\n",
       "  </thead>\n",
       "  <tbody>\n",
       "    <tr>\n",
       "      <th>0</th>\n",
       "      <td>L. Messi</td>\n",
       "      <td>92.0</td>\n",
       "    </tr>\n",
       "    <tr>\n",
       "      <th>1</th>\n",
       "      <td>Cristiano Ronaldo</td>\n",
       "      <td>93.0</td>\n",
       "    </tr>\n",
       "    <tr>\n",
       "      <th>2</th>\n",
       "      <td>Neymar Jr</td>\n",
       "      <td>85.0</td>\n",
       "    </tr>\n",
       "    <tr>\n",
       "      <th>3</th>\n",
       "      <td>J. Oblak</td>\n",
       "      <td>NaN</td>\n",
       "    </tr>\n",
       "    <tr>\n",
       "      <th>4</th>\n",
       "      <td>E. Hazard</td>\n",
       "      <td>83.0</td>\n",
       "    </tr>\n",
       "  </tbody>\n",
       "</table>\n",
       "</div>"
      ],
      "text/plain": [
       "          short_name  shooting\n",
       "0           L. Messi      92.0\n",
       "1  Cristiano Ronaldo      93.0\n",
       "2          Neymar Jr      85.0\n",
       "3           J. Oblak       NaN\n",
       "4          E. Hazard      83.0"
      ]
     },
     "execution_count": 295,
     "metadata": {},
     "output_type": "execute_result"
    }
   ],
   "source": [
    "duplicated.head(5)"
   ]
  },
  {
   "cell_type": "markdown",
   "id": "823021c6",
   "metadata": {},
   "source": [
    "Show top 5 players records (short name, defending, nationality, and club) that \n",
    "have awesome defending skills."
   ]
  },
  {
   "cell_type": "code",
   "execution_count": 296,
   "id": "7e36bd78",
   "metadata": {},
   "outputs": [
    {
     "data": {
      "text/html": [
       "<div>\n",
       "<style scoped>\n",
       "    .dataframe tbody tr th:only-of-type {\n",
       "        vertical-align: middle;\n",
       "    }\n",
       "\n",
       "    .dataframe tbody tr th {\n",
       "        vertical-align: top;\n",
       "    }\n",
       "\n",
       "    .dataframe thead th {\n",
       "        text-align: right;\n",
       "    }\n",
       "</style>\n",
       "<table border=\"1\" class=\"dataframe\">\n",
       "  <thead>\n",
       "    <tr style=\"text-align: right;\">\n",
       "      <th></th>\n",
       "      <th>short_name</th>\n",
       "      <th>defending</th>\n",
       "      <th>nationality</th>\n",
       "      <th>club</th>\n",
       "    </tr>\n",
       "  </thead>\n",
       "  <tbody>\n",
       "    <tr>\n",
       "      <th>0</th>\n",
       "      <td>L. Messi</td>\n",
       "      <td>39.0</td>\n",
       "      <td>Argentina</td>\n",
       "      <td>FC Barcelona</td>\n",
       "    </tr>\n",
       "    <tr>\n",
       "      <th>1</th>\n",
       "      <td>Cristiano Ronaldo</td>\n",
       "      <td>35.0</td>\n",
       "      <td>Portugal</td>\n",
       "      <td>Juventus</td>\n",
       "    </tr>\n",
       "    <tr>\n",
       "      <th>2</th>\n",
       "      <td>Neymar Jr</td>\n",
       "      <td>32.0</td>\n",
       "      <td>Brazil</td>\n",
       "      <td>Paris Saint-Germain</td>\n",
       "    </tr>\n",
       "    <tr>\n",
       "      <th>3</th>\n",
       "      <td>J. Oblak</td>\n",
       "      <td>NaN</td>\n",
       "      <td>Slovenia</td>\n",
       "      <td>Atlético Madrid</td>\n",
       "    </tr>\n",
       "    <tr>\n",
       "      <th>4</th>\n",
       "      <td>E. Hazard</td>\n",
       "      <td>35.0</td>\n",
       "      <td>Belgium</td>\n",
       "      <td>Real Madrid</td>\n",
       "    </tr>\n",
       "  </tbody>\n",
       "</table>\n",
       "</div>"
      ],
      "text/plain": [
       "          short_name  defending nationality                 club\n",
       "0           L. Messi       39.0   Argentina         FC Barcelona\n",
       "1  Cristiano Ronaldo       35.0    Portugal             Juventus\n",
       "2          Neymar Jr       32.0      Brazil  Paris Saint-Germain\n",
       "3           J. Oblak        NaN    Slovenia      Atlético Madrid\n",
       "4          E. Hazard       35.0     Belgium          Real Madrid"
      ]
     },
     "execution_count": 296,
     "metadata": {},
     "output_type": "execute_result"
    }
   ],
   "source": [
    "duplicated = df[['short_name','defending','nationality','club']]\n",
    "duplicated.head(5)"
   ]
  },
  {
   "cell_type": "markdown",
   "id": "2b3b212e",
   "metadata": {},
   "source": [
    "Finding all clubs"
   ]
  },
  {
   "cell_type": "code",
   "execution_count": 297,
   "id": "43254f64",
   "metadata": {},
   "outputs": [
    {
     "data": {
      "text/plain": [
       "club\n",
       "Śląsk Wrocław                  1\n",
       "Colombia                       1\n",
       "Seongnam FC                    1\n",
       "Finland                        1\n",
       "US Orléans Loiret Football     1\n",
       "                              ..\n",
       "Real Madrid                   33\n",
       "FC Augsburg                   33\n",
       "FC Barcelona                  33\n",
       "Lecce                         33\n",
       "Newcastle United              33\n",
       "Length: 698, dtype: int64"
      ]
     },
     "execution_count": 297,
     "metadata": {},
     "output_type": "execute_result"
    }
   ],
   "source": [
    "all_club = df.groupby([\"club\"]).size().sort_values()\n",
    "all_club"
   ]
  },
  {
   "cell_type": "markdown",
   "id": "46651f73",
   "metadata": {},
   "source": [
    "Show wages records of top 5 players of 'Real Madrid' team.\n"
   ]
  },
  {
   "cell_type": "code",
   "execution_count": 298,
   "id": "49c1f783",
   "metadata": {
    "scrolled": true
   },
   "outputs": [
    {
     "data": {
      "text/html": [
       "<div>\n",
       "<style scoped>\n",
       "    .dataframe tbody tr th:only-of-type {\n",
       "        vertical-align: middle;\n",
       "    }\n",
       "\n",
       "    .dataframe tbody tr th {\n",
       "        vertical-align: top;\n",
       "    }\n",
       "\n",
       "    .dataframe thead th {\n",
       "        text-align: right;\n",
       "    }\n",
       "</style>\n",
       "<table border=\"1\" class=\"dataframe\">\n",
       "  <thead>\n",
       "    <tr style=\"text-align: right;\">\n",
       "      <th></th>\n",
       "      <th>sofifa_id</th>\n",
       "      <th>player_url</th>\n",
       "      <th>short_name</th>\n",
       "      <th>long_name</th>\n",
       "      <th>age</th>\n",
       "      <th>dob</th>\n",
       "      <th>height_cm</th>\n",
       "      <th>weight_kg</th>\n",
       "      <th>nationality</th>\n",
       "      <th>club</th>\n",
       "      <th>...</th>\n",
       "      <th>lwb</th>\n",
       "      <th>ldm</th>\n",
       "      <th>cdm</th>\n",
       "      <th>rdm</th>\n",
       "      <th>rwb</th>\n",
       "      <th>lb</th>\n",
       "      <th>lcb</th>\n",
       "      <th>cb</th>\n",
       "      <th>rcb</th>\n",
       "      <th>rb</th>\n",
       "    </tr>\n",
       "  </thead>\n",
       "  <tbody>\n",
       "    <tr>\n",
       "      <th>4</th>\n",
       "      <td>183277</td>\n",
       "      <td>https://sofifa.com/player/183277/eden-hazard/2...</td>\n",
       "      <td>E. Hazard</td>\n",
       "      <td>Eden Hazard</td>\n",
       "      <td>28</td>\n",
       "      <td>1991-01-07</td>\n",
       "      <td>175</td>\n",
       "      <td>74</td>\n",
       "      <td>Belgium</td>\n",
       "      <td>Real Madrid</td>\n",
       "      <td>...</td>\n",
       "      <td>66+3</td>\n",
       "      <td>63+3</td>\n",
       "      <td>63+3</td>\n",
       "      <td>63+3</td>\n",
       "      <td>66+3</td>\n",
       "      <td>61+3</td>\n",
       "      <td>49+3</td>\n",
       "      <td>49+3</td>\n",
       "      <td>49+3</td>\n",
       "      <td>61+3</td>\n",
       "    </tr>\n",
       "    <tr>\n",
       "      <th>8</th>\n",
       "      <td>177003</td>\n",
       "      <td>https://sofifa.com/player/177003/luka-modric/2...</td>\n",
       "      <td>L. Modrić</td>\n",
       "      <td>Luka Modrić</td>\n",
       "      <td>33</td>\n",
       "      <td>1985-09-09</td>\n",
       "      <td>172</td>\n",
       "      <td>66</td>\n",
       "      <td>Croatia</td>\n",
       "      <td>Real Madrid</td>\n",
       "      <td>...</td>\n",
       "      <td>81+3</td>\n",
       "      <td>81+3</td>\n",
       "      <td>81+3</td>\n",
       "      <td>81+3</td>\n",
       "      <td>81+3</td>\n",
       "      <td>79+3</td>\n",
       "      <td>72+3</td>\n",
       "      <td>72+3</td>\n",
       "      <td>72+3</td>\n",
       "      <td>79+3</td>\n",
       "    </tr>\n",
       "    <tr>\n",
       "      <th>18</th>\n",
       "      <td>155862</td>\n",
       "      <td>https://sofifa.com/player/155862/sergio-ramos-...</td>\n",
       "      <td>Sergio Ramos</td>\n",
       "      <td>Sergio Ramos García</td>\n",
       "      <td>33</td>\n",
       "      <td>1986-03-30</td>\n",
       "      <td>184</td>\n",
       "      <td>82</td>\n",
       "      <td>Spain</td>\n",
       "      <td>Real Madrid</td>\n",
       "      <td>...</td>\n",
       "      <td>80+3</td>\n",
       "      <td>84+3</td>\n",
       "      <td>84+3</td>\n",
       "      <td>84+3</td>\n",
       "      <td>80+3</td>\n",
       "      <td>82+3</td>\n",
       "      <td>87+3</td>\n",
       "      <td>87+3</td>\n",
       "      <td>87+3</td>\n",
       "      <td>82+3</td>\n",
       "    </tr>\n",
       "    <tr>\n",
       "      <th>28</th>\n",
       "      <td>192119</td>\n",
       "      <td>https://sofifa.com/player/192119/thibaut-court...</td>\n",
       "      <td>T. Courtois</td>\n",
       "      <td>Thibaut Courtois</td>\n",
       "      <td>27</td>\n",
       "      <td>1992-05-11</td>\n",
       "      <td>199</td>\n",
       "      <td>96</td>\n",
       "      <td>Belgium</td>\n",
       "      <td>Real Madrid</td>\n",
       "      <td>...</td>\n",
       "      <td>NaN</td>\n",
       "      <td>NaN</td>\n",
       "      <td>NaN</td>\n",
       "      <td>NaN</td>\n",
       "      <td>NaN</td>\n",
       "      <td>NaN</td>\n",
       "      <td>NaN</td>\n",
       "      <td>NaN</td>\n",
       "      <td>NaN</td>\n",
       "      <td>NaN</td>\n",
       "    </tr>\n",
       "    <tr>\n",
       "      <th>36</th>\n",
       "      <td>182521</td>\n",
       "      <td>https://sofifa.com/player/182521/toni-kroos/20...</td>\n",
       "      <td>T. Kroos</td>\n",
       "      <td>Toni Kroos</td>\n",
       "      <td>29</td>\n",
       "      <td>1990-01-04</td>\n",
       "      <td>183</td>\n",
       "      <td>76</td>\n",
       "      <td>Germany</td>\n",
       "      <td>Real Madrid</td>\n",
       "      <td>...</td>\n",
       "      <td>75+3</td>\n",
       "      <td>79+3</td>\n",
       "      <td>79+3</td>\n",
       "      <td>79+3</td>\n",
       "      <td>75+3</td>\n",
       "      <td>72+3</td>\n",
       "      <td>69+3</td>\n",
       "      <td>69+3</td>\n",
       "      <td>69+3</td>\n",
       "      <td>72+3</td>\n",
       "    </tr>\n",
       "  </tbody>\n",
       "</table>\n",
       "<p>5 rows × 104 columns</p>\n",
       "</div>"
      ],
      "text/plain": [
       "    sofifa_id                                         player_url  \\\n",
       "4      183277  https://sofifa.com/player/183277/eden-hazard/2...   \n",
       "8      177003  https://sofifa.com/player/177003/luka-modric/2...   \n",
       "18     155862  https://sofifa.com/player/155862/sergio-ramos-...   \n",
       "28     192119  https://sofifa.com/player/192119/thibaut-court...   \n",
       "36     182521  https://sofifa.com/player/182521/toni-kroos/20...   \n",
       "\n",
       "      short_name            long_name  age         dob  height_cm  weight_kg  \\\n",
       "4      E. Hazard          Eden Hazard   28  1991-01-07        175         74   \n",
       "8      L. Modrić          Luka Modrić   33  1985-09-09        172         66   \n",
       "18  Sergio Ramos  Sergio Ramos García   33  1986-03-30        184         82   \n",
       "28   T. Courtois     Thibaut Courtois   27  1992-05-11        199         96   \n",
       "36      T. Kroos           Toni Kroos   29  1990-01-04        183         76   \n",
       "\n",
       "   nationality         club  ...   lwb   ldm   cdm   rdm   rwb    lb   lcb  \\\n",
       "4      Belgium  Real Madrid  ...  66+3  63+3  63+3  63+3  66+3  61+3  49+3   \n",
       "8      Croatia  Real Madrid  ...  81+3  81+3  81+3  81+3  81+3  79+3  72+3   \n",
       "18       Spain  Real Madrid  ...  80+3  84+3  84+3  84+3  80+3  82+3  87+3   \n",
       "28     Belgium  Real Madrid  ...   NaN   NaN   NaN   NaN   NaN   NaN   NaN   \n",
       "36     Germany  Real Madrid  ...  75+3  79+3  79+3  79+3  75+3  72+3  69+3   \n",
       "\n",
       "      cb   rcb    rb  \n",
       "4   49+3  49+3  61+3  \n",
       "8   72+3  72+3  79+3  \n",
       "18  87+3  87+3  82+3  \n",
       "28   NaN   NaN   NaN  \n",
       "36  69+3  69+3  72+3  \n",
       "\n",
       "[5 rows x 104 columns]"
      ]
     },
     "execution_count": 298,
     "metadata": {},
     "output_type": "execute_result"
    }
   ],
   "source": [
    "club_to_look_at = df.loc[(df['club']=='Real Madrid')]\n",
    "club_to_look_at.head(5)\n"
   ]
  },
  {
   "cell_type": "code",
   "execution_count": 299,
   "id": "d1af8857",
   "metadata": {},
   "outputs": [
    {
     "name": "stdout",
     "output_type": "stream",
     "text": [
      "          short_name  wage_eur\n",
      "0           L. Messi    565000\n",
      "1  Cristiano Ronaldo    405000\n",
      "2          Neymar Jr    290000\n",
      "3           J. Oblak    125000\n",
      "4          E. Hazard    470000\n"
     ]
    }
   ],
   "source": [
    "club_to_look_at = df[['short_name','wage_eur']]\n",
    "print(club_to_look_at.head(5))\n"
   ]
  },
  {
   "cell_type": "markdown",
   "id": "40f8ffad",
   "metadata": {},
   "source": [
    "Show shooting records of top 5 players of 'Real Madrid' team.\n"
   ]
  },
  {
   "cell_type": "code",
   "execution_count": 300,
   "id": "0836b930",
   "metadata": {},
   "outputs": [
    {
     "name": "stdout",
     "output_type": "stream",
     "text": [
      "          short_name  shooting\n",
      "0           L. Messi      92.0\n",
      "1  Cristiano Ronaldo      93.0\n",
      "2          Neymar Jr      85.0\n",
      "3           J. Oblak       NaN\n",
      "4          E. Hazard      83.0\n"
     ]
    }
   ],
   "source": [
    "club_to_look_at = df[['short_name','shooting']]\n",
    "print(club_to_look_at.head(5))\n"
   ]
  },
  {
   "cell_type": "markdown",
   "id": "10637650",
   "metadata": {},
   "source": [
    "Show defending records of top 5 players of 'Real Madrid' team.\n"
   ]
  },
  {
   "cell_type": "code",
   "execution_count": 301,
   "id": "d4e8ece5",
   "metadata": {},
   "outputs": [
    {
     "name": "stdout",
     "output_type": "stream",
     "text": [
      "          short_name  defending\n",
      "0           L. Messi       39.0\n",
      "1  Cristiano Ronaldo       35.0\n",
      "2          Neymar Jr       32.0\n",
      "3           J. Oblak        NaN\n",
      "4          E. Hazard       35.0\n"
     ]
    }
   ],
   "source": [
    "club_to_look_at = df[['short_name','defending']]\n",
    "print(club_to_look_at.head(5))"
   ]
  },
  {
   "cell_type": "markdown",
   "id": "6f692496",
   "metadata": {},
   "source": [
    "Show nationality records of top 5 players of 'Real Madrid' team."
   ]
  },
  {
   "cell_type": "code",
   "execution_count": 304,
   "id": "da2c6858",
   "metadata": {},
   "outputs": [
    {
     "data": {
      "text/plain": [
       "sofifa_id     33\n",
       "player_url    33\n",
       "short_name    33\n",
       "long_name     33\n",
       "age           33\n",
       "dtype: int64"
      ]
     },
     "execution_count": 304,
     "metadata": {},
     "output_type": "execute_result"
    }
   ],
   "source": [
    "club_to_look_at = df.loc[(df['club']=='Real Madrid')].count()\n",
    "\n",
    "club_to_look_at.head(5)"
   ]
  },
  {
   "cell_type": "markdown",
   "id": "1948616b",
   "metadata": {},
   "source": [
    "Preferred foot left vs. right"
   ]
  },
  {
   "cell_type": "code",
   "execution_count": 313,
   "id": "6628704b",
   "metadata": {},
   "outputs": [
    {
     "data": {
      "text/plain": [
       "4318"
      ]
     },
     "execution_count": 313,
     "metadata": {},
     "output_type": "execute_result"
    }
   ],
   "source": [
    "left = df.loc[(df['preferred_foot'] == 'Left')].count()[0]\n",
    "left"
   ]
  },
  {
   "cell_type": "code",
   "execution_count": 314,
   "id": "ee1cb97c",
   "metadata": {},
   "outputs": [
    {
     "data": {
      "text/plain": [
       "sofifa_id     4318\n",
       "player_url    4318\n",
       "short_name    4318\n",
       "long_name     4318\n",
       "age           4318\n",
       "dtype: int64"
      ]
     },
     "execution_count": 314,
     "metadata": {},
     "output_type": "execute_result"
    }
   ],
   "source": [
    "left = df.loc[(df['preferred_foot'] == 'Left')].count()\n",
    "left.head()"
   ]
  },
  {
   "cell_type": "code",
   "execution_count": 317,
   "id": "e4dfe576",
   "metadata": {},
   "outputs": [
    {
     "data": {
      "text/plain": [
       "sofifa_id     0\n",
       "player_url    0\n",
       "short_name    0\n",
       "long_name     0\n",
       "age           0\n",
       "dtype: int64"
      ]
     },
     "execution_count": 317,
     "metadata": {},
     "output_type": "execute_result"
    }
   ],
   "source": [
    "right = df.loc[(df['preferred_foot'] == 'right')].count()\n",
    "right.head()"
   ]
  },
  {
   "cell_type": "code",
   "execution_count": 338,
   "id": "f11c2ba3",
   "metadata": {},
   "outputs": [
    {
     "data": {
      "image/png": "[encoded data removed]",
      "text/plain": [
       "<Figure size 1800x1200 with 1 Axes>"
      ]
     },
     "metadata": {},
     "output_type": "display_data"
    }
   ],
   "source": [
    "left = df.loc[(df['preferred_foot'] == 'Left')].count()[0]\n",
    "right = df.loc[(df['preferred_foot'] == 'right')].count()[0]\n",
    "labels = ['Left', 'Right']\n",
    "colors = ['#abcdef', '#aabbcc']\n",
    "plt.pie([left, right], labels=labels, colors=colors, autopct='%.2f')\n",
    "\n",
    "plt.title('Foot Preference of Players')\n",
    "plt.show()"
   ]
  },
  {
   "cell_type": "markdown",
   "id": "eccc52d4",
   "metadata": {},
   "source": [
    "Histograms"
   ]
  },
  {
   "cell_type": "code",
   "execution_count": 326,
   "id": "a5abf687",
   "metadata": {},
   "outputs": [
    {
     "data": {
      "text/plain": [
       "Text(0.5, 1.0, 'Distribution of Players Skills')"
      ]
     },
     "execution_count": 326,
     "metadata": {},
     "output_type": "execute_result"
    },
    {
     "data": {
      "image/png": "[encoded data removed]",
      "text/plain": [
       "<Figure size 1800x1200 with 1 Axes>"
      ]
     },
     "metadata": {
      "needs_background": "light"
     },
     "output_type": "display_data"
    }
   ],
   "source": [
    "plt.hist(df.overall)\n",
    "\n",
    "plt.ylabel('Number of Players')\n",
    "plt.xlabel('Skill Level')\n",
    "plt.title('Distribution of Players Skills')\n"
   ]
  },
  {
   "cell_type": "code",
   "execution_count": 340,
   "id": "4e385255",
   "metadata": {},
   "outputs": [
    {
     "data": {
      "text/plain": [
       "0        72\n",
       "1        83\n",
       "2        68\n",
       "3        87\n",
       "4        74\n",
       "         ..\n",
       "18273    79\n",
       "18274    66\n",
       "18275    75\n",
       "18276    74\n",
       "18277    78\n",
       "Name: weight_kg, Length: 18278, dtype: int64"
      ]
     },
     "execution_count": 340,
     "metadata": {},
     "output_type": "execute_result"
    }
   ],
   "source": [
    "df.weight_kg"
   ]
  },
  {
   "cell_type": "code",
   "execution_count": 361,
   "id": "08045118",
   "metadata": {},
   "outputs": [
    {
     "data": {
      "text/plain": [
       "116"
      ]
     },
     "execution_count": 361,
     "metadata": {},
     "output_type": "execute_result"
    }
   ],
   "source": [
    "light= df.loc[df.weight_kg < 60].count()[0]\n",
    "light"
   ]
  },
  {
   "cell_type": "code",
   "execution_count": 360,
   "id": "f48f3237",
   "metadata": {},
   "outputs": [
    {
     "data": {
      "text/plain": [
       "3442"
      ]
     },
     "execution_count": 360,
     "metadata": {},
     "output_type": "execute_result"
    }
   ],
   "source": [
    "light_medium = df.loc[(df.weight_kg >= 60) & (df.weight_kg < 70)].count()[0]\n",
    "light_medium"
   ]
  },
  {
   "cell_type": "code",
   "execution_count": 355,
   "id": "47f69e03",
   "metadata": {},
   "outputs": [
    {
     "data": {
      "text/plain": [
       "9702"
      ]
     },
     "execution_count": 355,
     "metadata": {},
     "output_type": "execute_result"
    }
   ],
   "source": [
    "medium = df.loc[(df.weight_kg >= 70) & (df.weight_kg < 80)].count()[0]\n",
    "medium"
   ]
  },
  {
   "cell_type": "code",
   "execution_count": 359,
   "id": "d400d2bd",
   "metadata": {},
   "outputs": [
    {
     "data": {
      "text/plain": [
       "5002"
      ]
     },
     "execution_count": 359,
     "metadata": {},
     "output_type": "execute_result"
    }
   ],
   "source": [
    "medium_heavy = df.loc[(df.weight_kg >= 80) & (df.weight_kg < 100)].count()[0]\n",
    "medium_heavy"
   ]
  },
  {
   "cell_type": "code",
   "execution_count": 358,
   "id": "15bce2fe",
   "metadata": {},
   "outputs": [
    {
     "data": {
      "text/plain": [
       "16"
      ]
     },
     "execution_count": 358,
     "metadata": {},
     "output_type": "execute_result"
    }
   ],
   "source": [
    "heavy= df.loc[(df.weight_kg >= 100)].count()[0]\n",
    "heavy"
   ]
  },
  {
   "cell_type": "code",
   "execution_count": 376,
   "id": "d09f3717",
   "metadata": {},
   "outputs": [
    {
     "data": {
      "image/png": "[encoded data removed]",
      "text/plain": [
       "<Figure size 640x480 with 1 Axes>"
      ]
     },
     "metadata": {},
     "output_type": "display_data"
    }
   ],
   "source": [
    "plt.style.use('ggplot')\n",
    "weights = [light, light_medium, medium, medium_heavy, heavy]\n",
    "labels = ['under 60','10-70','70-80','80-100','Over 100']\n",
    "explode = (.4,.2,0,0,.8)\n",
    "plt.title('Weight Distribution of players (in KG)')\n",
    "plt.pie(weights, labels=labels, autopct= '%.2f %%', pctdistance = 0.8, explode = explode)\n",
    "\n",
    "plt.show()"
   ]
  }
 ],
 "metadata": {
  "kernelspec": {
   "display_name": "Python 3",
   "language": "python",
   "name": "python3"
  },
  "language_info": {
   "codemirror_mode": {
    "name": "ipython",
    "version": 3
   },
   "file_extension": ".py",
   "mimetype": "text/x-python",
   "name": "python",
   "nbconvert_exporter": "python",
   "pygments_lexer": "ipython3",
   "version": "3.8.8"
  }
 },
 "nbformat": 4,
 "nbformat_minor": 5
}
